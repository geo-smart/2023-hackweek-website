{
 "cells": [
  {
   "cell_type": "markdown",
   "id": "6af74486",
   "metadata": {},
   "source": [
    "# Introduction to the Snow Extrapolation Project\n",
    "\n",
    "The goal of the project to improve the capability of machine learning algorithms ability to extrapolate snow-water-equivalent estimates in the Sierra Nevada mountains in California.\n",
    "The project will use three regions of the National Snow Model (NSM)\n",
    "* Northern Sierras (N_Sierras)\n",
    "* Southern Sierras w/elevations > 2,500m (S_Sierras_High)\n",
    "* Southern Sierras w/elevations < 2,500m (S_Sierras_Low)\n",
    "\n",
    "Using these three regions of the NSM, the tutorial will cover the following componetns\n",
    "* Data sources\n",
    "* data processing methods\n",
    "* Machine learning training/testing/validation data partitioning\n",
    "* Algorithm development\n",
    "* Algorithm evaluation\n",
    "* Hindcast model evaluation\n",
    "* Result visulization."
   ]
  },
  {
   "cell_type": "code",
   "execution_count": null,
   "id": "a8860d69",
   "metadata": {},
   "outputs": [],
   "source": []
  }
 ],
 "metadata": {
  "kernelspec": {
   "display_name": "Python 3 (ipykernel)",
   "language": "python",
   "name": "python3"
  },
  "language_info": {
   "codemirror_mode": {
    "name": "ipython",
    "version": 3
   },
   "file_extension": ".py",
   "mimetype": "text/x-python",
   "name": "python",
   "nbconvert_exporter": "python",
   "pygments_lexer": "ipython3",
   "version": "3.9.12"
  }
 },
 "nbformat": 4,
 "nbformat_minor": 5
}
