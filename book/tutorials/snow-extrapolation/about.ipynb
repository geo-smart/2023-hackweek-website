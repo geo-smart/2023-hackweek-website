{
 "cells": [
  {
   "cell_type": "markdown",
   "id": "15514b56-d67e-4031-b7b8-14afc692ceff",
   "metadata": {},
   "source": [
    "# Introduction to the Snow Extrapolation Project\n",
    "The goal of the project to improve the capability of machine learning algorithms ability to extrapolate snow-water-equivalent estimates in the Sierra Nevada mountains in California. The project will use three regions of the National Snow Model (NSM)\n",
    "\n",
    "Northern Sierras (N_Sierras)\n",
    "Southern Sierras w/elevations > 2,500m (S_Sierras_High)\n",
    "Southern Sierras w/elevations < 2,500m (S_Sierras_Low)\n",
    "Using these three regions of the NSM, the tutorial will cover the following componetns\n",
    "\n",
    "Data sources\n",
    "data processing methods\n",
    "Machine learning training/testing/validation data partitioning\n",
    "Algorithm development\n",
    "Algorithm evaluation\n",
    "Hindcast model evaluation\n",
    "Result visualization."
   ]
  },
  {
   "cell_type": "code",
   "execution_count": null,
   "id": "7f2d140f-0a9c-4806-bfb7-e196a5a0c36c",
   "metadata": {},
   "outputs": [],
   "source": []
  }
 ],
 "metadata": {
  "kernelspec": {
   "display_name": "Python 3 (ipykernel)",
   "language": "python",
   "name": "python3"
  },
  "language_info": {
   "codemirror_mode": {
    "name": "ipython",
    "version": 3
   },
   "file_extension": ".py",
   "mimetype": "text/x-python",
   "name": "python",
   "nbconvert_exporter": "python",
   "pygments_lexer": "ipython3",
   "version": "3.10.8"
  }
 },
 "nbformat": 4,
 "nbformat_minor": 5
}
